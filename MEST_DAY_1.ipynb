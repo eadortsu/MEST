{
 "cells": [
  {
   "cell_type": "markdown",
   "metadata": {
    "colab_type": "text",
    "id": "X8WxpaYP6uPX"
   },
   "source": [
    "# MEST Day 1"
   ]
  },
  {
   "cell_type": "markdown",
   "metadata": {
    "colab_type": "text",
    "id": "0W1vbXwI6-UJ"
   },
   "source": [
    "## Morning Session\n",
    "### Linear Regression"
   ]
  },
  {
   "cell_type": "code",
   "execution_count": 1,
   "metadata": {
    "colab": {},
    "colab_type": "code",
    "id": "qV8hZNOCNNeX"
   },
   "outputs": [],
   "source": [
    "import pandas as pd\n",
    "import numpy as np\n",
    "import matplotlib.pyplot as plt\n",
    "import seaborn as sns\n",
    "from math import sqrt\n",
    "\n",
    "%matplotlib inline"
   ]
  },
  {
   "cell_type": "code",
   "execution_count": null,
   "metadata": {
    "colab": {
     "base_uri": "https://localhost:8080/",
     "height": 122
    },
    "colab_type": "code",
    "id": "NN_brdW9Npse",
    "outputId": "b7706cda-124e-4651-9bf0-aba993b3c82d"
   },
   "outputs": [],
   "source": [
    "from google.colab import drive\n",
    "drive.mount('/content/gdrive')"
   ]
  },
  {
   "cell_type": "code",
   "execution_count": null,
   "metadata": {
    "colab": {},
    "colab_type": "code",
    "id": "r1X-crpiNqmS"
   },
   "outputs": [],
   "source": [
    "train_df = pd.read_csv('/content/gdrive/My Drive/boston/train.csv', index_col='ID')"
   ]
  },
  {
   "cell_type": "code",
   "execution_count": null,
   "metadata": {
    "colab": {
     "base_uri": "https://localhost:8080/",
     "height": 343
    },
    "colab_type": "code",
    "id": "N7cRBmfMOJFv",
    "outputId": "fcac39ea-ff1a-4245-e39f-1269ab82c509"
   },
   "outputs": [],
   "source": [
    "train_df.info()"
   ]
  },
  {
   "cell_type": "code",
   "execution_count": null,
   "metadata": {
    "colab": {
     "base_uri": "https://localhost:8080/",
     "height": 254
    },
    "colab_type": "code",
    "id": "8gWpqu3b52_H",
    "outputId": "ec5e06f4-c62e-409b-fd99-ec230787ef20"
   },
   "outputs": [],
   "source": [
    "train_df.head()"
   ]
  },
  {
   "cell_type": "markdown",
   "metadata": {
    "colab_type": "text",
    "id": "3B4mGk3fXwDr"
   },
   "source": [
    "Can we see a visual relationship between rooms and medv?"
   ]
  },
  {
   "cell_type": "code",
   "execution_count": null,
   "metadata": {
    "colab": {
     "base_uri": "https://localhost:8080/",
     "height": 234
    },
    "colab_type": "code",
    "id": "iwsExw2O6Ez4",
    "outputId": "3a947174-9516-4055-cbae-40fbd187d30b"
   },
   "outputs": [],
   "source": [
    "train_df[['rm', 'medv']].head()"
   ]
  },
  {
   "cell_type": "code",
   "execution_count": null,
   "metadata": {
    "colab": {
     "base_uri": "https://localhost:8080/",
     "height": 283
    },
    "colab_type": "code",
    "id": "YldJI8yKYLFc",
    "outputId": "b70ceb88-9d80-4e80-ddeb-040847548404"
   },
   "outputs": [],
   "source": [
    "_rooms = train_df['rm'].values\n",
    "_medv = train_df['medv'].values\n",
    "\n",
    "plt.scatter(_rooms, _medv)\n",
    "plt.xlabel('No of Rooms')\n",
    "plt.ylabel('Median Value')\n",
    "plt.show()"
   ]
  },
  {
   "cell_type": "markdown",
   "metadata": {
    "colab_type": "text",
    "id": "3y9yg5vsX8bj"
   },
   "source": [
    "Can we find an equation for this line?"
   ]
  },
  {
   "cell_type": "code",
   "execution_count": null,
   "metadata": {
    "colab": {
     "base_uri": "https://localhost:8080/",
     "height": 283
    },
    "colab_type": "code",
    "id": "qkEXZpM-qEqF",
    "outputId": "e55c493b-8f3b-401c-fb3c-0e1e61d8854d"
   },
   "outputs": [],
   "source": [
    "_r = np.linspace(min(_rooms), max(_rooms)).reshape(-1, 1)\n",
    "_m = np.linspace(min(_medv), max(_medv)).reshape(-1, 1)\n",
    "\n",
    "plt.scatter(_rooms, _medv)\n",
    "plt.plot(_r, _m, color='red', linewidth=3)\n",
    "plt.xlabel('No of Rooms')\n",
    "plt.ylabel('Median Value')\n",
    "plt.show()"
   ]
  },
  {
   "cell_type": "markdown",
   "metadata": {
    "colab_type": "text",
    "id": "B5M70FCDOTcJ"
   },
   "source": [
    "# Function\n",
    "* $y = wx + b$\n",
    "* $y = w_0.x_0 + w_1.x_1$\n",
    "* $y = w.x$\n",
    "* $y$ is a predicted variable also called $y_{pred}$\n",
    "* $w$ is a vector of weights\n",
    "* $x$ is a vector of predictors\n",
    "\n",
    "# Cost\n",
    "* $L = \\frac{\\sqrt{\\sum{(y - y_{pred})^2}}}{n}$"
   ]
  },
  {
   "cell_type": "markdown",
   "metadata": {
    "colab_type": "text",
    "id": "yZSa8puHOfLU"
   },
   "source": [
    "* $y_{pred} = a + wx$\n",
    "* vectorize the operation\n",
    "* $y_{pred} = a.w_0 + x.w_1$\n",
    "* $y_{pred} = (a x) * (w_0 w_1)$\n",
    "* $y_{pred} = x * w$"
   ]
  },
  {
   "cell_type": "markdown",
   "metadata": {
    "colab_type": "text",
    "id": "27UynBdTOk6P"
   },
   "source": [
    "# Define y"
   ]
  },
  {
   "cell_type": "code",
   "execution_count": null,
   "metadata": {
    "colab": {
     "base_uri": "https://localhost:8080/",
     "height": 68
    },
    "colab_type": "code",
    "id": "vhdjInBBOpps",
    "outputId": "f2b33284-222c-4594-d1ec-34ca8247c107"
   },
   "outputs": [],
   "source": [
    "y = train_df['medv'].values\n",
    "print(type(y))\n",
    "print(y.shape)\n",
    "y = y.reshape(-1, 1)\n",
    "print(y.shape)"
   ]
  },
  {
   "cell_type": "markdown",
   "metadata": {
    "colab_type": "text",
    "id": "elhnciquOvSV"
   },
   "source": [
    "# Define x"
   ]
  },
  {
   "cell_type": "code",
   "execution_count": null,
   "metadata": {
    "colab": {},
    "colab_type": "code",
    "id": "2LhwldCyOzHB"
   },
   "outputs": [],
   "source": [
    "train_df['constant'] = 1"
   ]
  },
  {
   "cell_type": "code",
   "execution_count": null,
   "metadata": {
    "colab": {
     "base_uri": "https://localhost:8080/",
     "height": 254
    },
    "colab_type": "code",
    "id": "toYfsRa7O3hc",
    "outputId": "59a38da6-1bf8-4ca1-c9ba-f63ea1bcba30"
   },
   "outputs": [],
   "source": [
    "train_df.head()"
   ]
  },
  {
   "cell_type": "code",
   "execution_count": null,
   "metadata": {
    "colab": {
     "base_uri": "https://localhost:8080/",
     "height": 34
    },
    "colab_type": "code",
    "id": "94v_CwmxO-qr",
    "outputId": "ea7f2756-62ea-4722-f1bc-aa8574da1379"
   },
   "outputs": [],
   "source": [
    "columns = ['constant', 'rm', 'zn', 'indus']\n",
    "x = train_df[columns].values\n",
    "print(type(x))"
   ]
  },
  {
   "cell_type": "code",
   "execution_count": null,
   "metadata": {
    "colab": {
     "base_uri": "https://localhost:8080/",
     "height": 34
    },
    "colab_type": "code",
    "id": "HGgzflWzPDrW",
    "outputId": "7f4d7a62-77e7-423d-adfb-d201fd3c6c29"
   },
   "outputs": [],
   "source": [
    "print(x.shape)"
   ]
  },
  {
   "cell_type": "code",
   "execution_count": null,
   "metadata": {
    "colab": {
     "base_uri": "https://localhost:8080/",
     "height": 120
    },
    "colab_type": "code",
    "id": "xQF6Ux3iPMCH",
    "outputId": "f8665829-fd0a-4632-97d6-fbc1de0a38fc"
   },
   "outputs": [],
   "source": [
    "w = np.zeros((x.shape[1], 1))\n",
    "print(type(w))\n",
    "print(w.shape)\n",
    "print(w)"
   ]
  },
  {
   "cell_type": "code",
   "execution_count": null,
   "metadata": {
    "colab": {},
    "colab_type": "code",
    "id": "vstCFENDPRs9"
   },
   "outputs": [],
   "source": [
    "y_pred = np.dot(x, w)"
   ]
  },
  {
   "cell_type": "code",
   "execution_count": null,
   "metadata": {
    "colab": {
     "base_uri": "https://localhost:8080/",
     "height": 34
    },
    "colab_type": "code",
    "id": "R_M2eh6FPW3A",
    "outputId": "ea87acb4-df07-43eb-d0c4-edf03b55fbb9"
   },
   "outputs": [],
   "source": [
    "print(y_pred.shape)"
   ]
  },
  {
   "cell_type": "code",
   "execution_count": null,
   "metadata": {
    "colab": {
     "base_uri": "https://localhost:8080/",
     "height": 34
    },
    "colab_type": "code",
    "id": "dNyfpGSMPchn",
    "outputId": "d26fa7a9-9a7b-403d-b5f4-31160987ac67"
   },
   "outputs": [],
   "source": [
    "error = y - y_pred\n",
    "print(error.shape)\n",
    "squared_error = np.power(error, 2)\n",
    "root_mean_squared_error = sqrt(squared_error.sum()) / y_pred.shape[0]"
   ]
  },
  {
   "cell_type": "code",
   "execution_count": null,
   "metadata": {
    "colab": {
     "base_uri": "https://localhost:8080/",
     "height": 34
    },
    "colab_type": "code",
    "id": "iRpPLkc0Pjfs",
    "outputId": "274c2c18-7d85-4f1c-d0f4-ae628608f8f4"
   },
   "outputs": [],
   "source": [
    "print(root_mean_squared_error)"
   ]
  },
  {
   "cell_type": "markdown",
   "metadata": {
    "colab_type": "text",
    "id": "NRkv52DTPrlI"
   },
   "source": [
    "## Implement Gradient Descent\n",
    "* learning rate $\\alpha$\n",
    "* gradient\n",
    "\n",
    "* gradient is $2 * error$\n",
    "* gradient update rule is $w = w - gradient * \\alpha$"
   ]
  },
  {
   "cell_type": "code",
   "execution_count": null,
   "metadata": {
    "colab": {},
    "colab_type": "code",
    "id": "_aQwNU9bPyVH"
   },
   "outputs": [],
   "source": [
    "costs = []\n",
    "w_0_s = []\n",
    "w_1_s = []\n",
    "\n",
    "learning_rate = 1e-3\n",
    "steps = 20"
   ]
  },
  {
   "cell_type": "code",
   "execution_count": null,
   "metadata": {
    "colab": {},
    "colab_type": "code",
    "id": "0zyVz-Q7P4eH"
   },
   "outputs": [],
   "source": [
    "for a in range(steps):\n",
    "    \n",
    "    w_0 = w[0][0]\n",
    "    w_1 = w[1][0]\n",
    "    \n",
    "    \n",
    "    # make prediction\n",
    "    y_pred = np.dot(x, w)\n",
    "    error = y - y_pred\n",
    "    error_squared = np.power(error, 2)\n",
    "    # cost function is LMS\n",
    "    LMS = error_squared.sum() / (2 * y.shape[0])\n",
    "    \n",
    "    costs.append(LMS)\n",
    "    w_0_s.append(w_0)\n",
    "    w_1_s.append(w_1)\n",
    "    \n",
    "    # update \n",
    "    \n",
    "    w_0 = w_0 + learning_rate/y.shape[0] * error.sum()\n",
    "    w_1 = w_1 + learning_rate/y.shape[0] * (error * x[1]).sum()\n",
    "    \n",
    "    w[0][0] = w_0\n",
    "    w[1][0] = w_1"
   ]
  },
  {
   "cell_type": "code",
   "execution_count": null,
   "metadata": {
    "colab": {
     "base_uri": "https://localhost:8080/",
     "height": 286
    },
    "colab_type": "code",
    "id": "_Fh-DpnoP__u",
    "outputId": "9c639567-779a-4158-feea-864fd38875a9"
   },
   "outputs": [],
   "source": [
    "cost_df = pd.DataFrame({'cost': pd.Series(costs), 'w_0': pd.Series(w_0_s), 'w_1': pd.Series(w_1_s)})\n",
    "cost_df['cost'].plot()"
   ]
  },
  {
   "cell_type": "code",
   "execution_count": null,
   "metadata": {
    "colab": {
     "base_uri": "https://localhost:8080/",
     "height": 377
    },
    "colab_type": "code",
    "id": "vNmeq4axC-NC",
    "outputId": "98b66ba9-cd64-4f0e-a3f5-d3a4144ab50d"
   },
   "outputs": [],
   "source": [
    "print(cost_df)"
   ]
  },
  {
   "cell_type": "code",
   "execution_count": null,
   "metadata": {
    "colab": {
     "base_uri": "https://localhost:8080/",
     "height": 34
    },
    "colab_type": "code",
    "id": "nbjNhVSNQFnu",
    "outputId": "5b17f35a-812c-4c20-f862-c841dd64f791"
   },
   "outputs": [],
   "source": [
    "print(w_0, w_1)"
   ]
  },
  {
   "cell_type": "markdown",
   "metadata": {
    "colab_type": "text",
    "id": "U-_jZGpMS4HE"
   },
   "source": [
    "Make a Prediction"
   ]
  },
  {
   "cell_type": "code",
   "execution_count": null,
   "metadata": {
    "colab": {},
    "colab_type": "code",
    "id": "iEF6X1N6DKM_"
   },
   "outputs": [],
   "source": [
    "_w = [w_0, w_1]\n",
    "_w = np.asarray(_w)\n",
    "_x = train_df[['constant', 'rm']].values\n",
    "y_pred = np.dot(_x, _w)"
   ]
  },
  {
   "cell_type": "code",
   "execution_count": null,
   "metadata": {
    "colab": {
     "base_uri": "https://localhost:8080/",
     "height": 203
    },
    "colab_type": "code",
    "id": "bx1RCR0DDoRH",
    "outputId": "71646da6-d6ae-4ec7-c5d1-a265ce9576e9"
   },
   "outputs": [],
   "source": [
    "_p = pd.DataFrame(dict(actual=train_df['medv'].values, predicted=y_pred.reshape(-1)))\n",
    "_p.head()"
   ]
  },
  {
   "cell_type": "markdown",
   "metadata": {
    "colab_type": "text",
    "id": "8JE05xPlNNXb"
   },
   "source": [
    "## Matrix Multiplication Refresher\n",
    "\n",
    "$y = w.x + b = w.x$\n",
    "\n",
    "$\\begin{bmatrix} y_{11} \\\\ y_{21} \\\\ y_{31} \\\\ y_{41} \\end{bmatrix} = \\begin{bmatrix} w_{11}  \\\\ w_{21}  \\end{bmatrix}  \\begin{bmatrix} x_{11}  & x_{12} \\\\ x_{21} & x_{22} \\\\ x_{31} & x_{32} \\\\  x_{41} & x_{42} \\end{bmatrix} + \\begin{bmatrix} b_{11} \\\\ b_{21} \\\\ b_{31} \\\\ b_{41} \\end{bmatrix} $\n",
    "\n",
    "$\\begin{bmatrix} y_{11} \\\\ y_{21} \\\\ y_{31} \\\\ y_{41} \\end{bmatrix} = \\begin{bmatrix} w_{11} * x_{11} + w_{21} * x_{12} \\\\ w_{11} * x_{21} + w_{21} * x_{22} \\\\ w_{11} * x_{31} + w_{21} * x_{32} \\\\ w_{11} * x_{41} + w_{21} * x_{42} \\end{bmatrix} + \\begin{bmatrix} b_{11} * 1 \\\\ b_{21} * 1 \\\\ b_{31} * 1 \\\\ b_{41} * 1 \\end{bmatrix} $\n",
    "\n",
    "$\\begin{bmatrix} y_{11} \\\\ y_{21} \\\\ y_{31} \\\\ y_{41} \\end{bmatrix} = \\begin{bmatrix} w_{11} * x_{11} + w_{21} * x_{12} + b * 1 \\\\ w_{11} * x_{21} + w_{21} * x_{22} + b * 1 \\\\ w_{11} * x_{31} + w_{21} * x_{32} + b * 1 \\\\ w_{11} * x_{41} + w_{21} * x_{42} + b * 1 \\end{bmatrix}$\n",
    "\n",
    "$\\begin{bmatrix} y_{11} \\\\ y_{21} \\\\ y_{31} \\\\ y_{41} \\end{bmatrix} = \\begin{bmatrix} w_{11} \\\\ w_{21} \\\\ w_{31}  \\end{bmatrix} \\bullet \\begin{bmatrix}  x_{11} & x_{12} & 1 \\\\  x_{21} & x_{22} & 1 \\\\  x_{31} & x_{32} & 1 \\\\  x_{41} & x_{42} & 1 \\end{bmatrix}$"
   ]
  },
  {
   "cell_type": "markdown",
   "metadata": {
    "colab_type": "text",
    "id": "hYdTrwflS5vy"
   },
   "source": [
    "### Implement SciPY"
   ]
  },
  {
   "cell_type": "code",
   "execution_count": null,
   "metadata": {
    "colab": {},
    "colab_type": "code",
    "id": "WnxJMB9kS7d_"
   },
   "outputs": [],
   "source": [
    "import pandas as pd\n",
    "import numpy as np\n",
    "from scipy.optimize import fmin, minimize"
   ]
  },
  {
   "cell_type": "code",
   "execution_count": null,
   "metadata": {
    "colab": {},
    "colab_type": "code",
    "id": "eytbhDTLTAQe"
   },
   "outputs": [],
   "source": [
    "y = train_df['medv'].values\n",
    "y = y.reshape(-1, 1)"
   ]
  },
  {
   "cell_type": "code",
   "execution_count": null,
   "metadata": {
    "colab": {},
    "colab_type": "code",
    "id": "ntnCxVcWTXzZ"
   },
   "outputs": [],
   "source": [
    "train_df['constant'] = 1\n",
    "columns = ['constant', 'crim', 'zn', 'indus', 'chas', 'nox', 'rm', 'age', 'dis', 'rad', 'tax', 'ptratio', 'black', 'lstat']\n",
    "x = train_df[columns].values"
   ]
  },
  {
   "cell_type": "code",
   "execution_count": null,
   "metadata": {
    "colab": {},
    "colab_type": "code",
    "id": "eX13pTsYTae-"
   },
   "outputs": [],
   "source": [
    "w = np.zeros([x.shape[1], 1])"
   ]
  },
  {
   "cell_type": "code",
   "execution_count": null,
   "metadata": {
    "colab": {
     "base_uri": "https://localhost:8080/",
     "height": 257
    },
    "colab_type": "code",
    "id": "jgBgI9OxUNnq",
    "outputId": "babb3d35-b8f5-4adf-993a-5839b3a65341"
   },
   "outputs": [],
   "source": [
    "print(w)"
   ]
  },
  {
   "cell_type": "code",
   "execution_count": null,
   "metadata": {
    "colab": {},
    "colab_type": "code",
    "id": "XTPHDgWzUQ3G"
   },
   "outputs": [],
   "source": [
    "def pred(x, w):\n",
    "    return np.dot(x, w)"
   ]
  },
  {
   "cell_type": "code",
   "execution_count": null,
   "metadata": {
    "colab": {},
    "colab_type": "code",
    "id": "8NqXDXjvUT2b"
   },
   "outputs": [],
   "source": [
    "y_pred = pred(x, w)"
   ]
  },
  {
   "cell_type": "code",
   "execution_count": null,
   "metadata": {
    "colab": {},
    "colab_type": "code",
    "id": "S39eUcdkUYzX"
   },
   "outputs": [],
   "source": [
    "def loss(_w):\n",
    "    p = pred(x, _w)\n",
    "    e = y - p\n",
    "    se = np.power(e, 2)\n",
    "    rse = np.sqrt(np.sum(se))\n",
    "    rmse = rse / y.shape[0]\n",
    "    return rmse"
   ]
  },
  {
   "cell_type": "code",
   "execution_count": null,
   "metadata": {
    "colab": {},
    "colab_type": "code",
    "id": "IEtN36mXUd-h"
   },
   "outputs": [],
   "source": [
    "l = loss(w)"
   ]
  },
  {
   "cell_type": "code",
   "execution_count": null,
   "metadata": {
    "colab": {
     "base_uri": "https://localhost:8080/",
     "height": 34
    },
    "colab_type": "code",
    "id": "-Qfx0AxtUh_F",
    "outputId": "c723809f-ed33-4088-b9c2-52ab8abe5038"
   },
   "outputs": [],
   "source": [
    "l"
   ]
  },
  {
   "cell_type": "code",
   "execution_count": null,
   "metadata": {
    "colab": {
     "base_uri": "https://localhost:8080/",
     "height": 34
    },
    "colab_type": "code",
    "id": "u3imUJRfUq_8",
    "outputId": "2bd65c5b-53a2-48a0-a443-3eafb5d6d7e7"
   },
   "outputs": [],
   "source": [
    "min = fmin(loss, w, maxiter=1000)"
   ]
  },
  {
   "cell_type": "code",
   "execution_count": null,
   "metadata": {
    "colab": {
     "base_uri": "https://localhost:8080/",
     "height": 88
    },
    "colab_type": "code",
    "id": "TRuvp_v-Ut6P",
    "outputId": "744a13b8-20e9-4c52-ad0b-40a369adc80a"
   },
   "outputs": [],
   "source": [
    "min"
   ]
  },
  {
   "cell_type": "code",
   "execution_count": null,
   "metadata": {
    "colab": {
     "base_uri": "https://localhost:8080/",
     "height": 34
    },
    "colab_type": "code",
    "id": "3BTvTHjGUypi",
    "outputId": "b78b5d4d-727a-415e-f1f9-833a66a24a01"
   },
   "outputs": [],
   "source": [
    "loss(min)"
   ]
  },
  {
   "cell_type": "code",
   "execution_count": null,
   "metadata": {
    "colab": {},
    "colab_type": "code",
    "id": "1Wmxkm21U19k"
   },
   "outputs": [],
   "source": [
    "y_min = pred(x, min)"
   ]
  },
  {
   "cell_type": "code",
   "execution_count": null,
   "metadata": {
    "colab": {},
    "colab_type": "code",
    "id": "zGgi7cBZU5Q5"
   },
   "outputs": [],
   "source": [
    "out = pd.DataFrame({'y': y[:,0], 'y_pred': y_pred[:,0], 'y_min': pred(x, min)})"
   ]
  },
  {
   "cell_type": "code",
   "execution_count": null,
   "metadata": {
    "colab": {
     "base_uri": "https://localhost:8080/",
     "height": 511
    },
    "colab_type": "code",
    "id": "Fth3YfdKU8KW",
    "outputId": "25cce4f4-b9c6-42f3-ec07-a1d1cdaa3505"
   },
   "outputs": [],
   "source": [
    "out.head(n=15)"
   ]
  },
  {
   "cell_type": "code",
   "execution_count": null,
   "metadata": {
    "colab": {},
    "colab_type": "code",
    "id": "KPKbrbByVAgA"
   },
   "outputs": [],
   "source": [
    "nms = minimize(loss, w, method='nelder-mead')"
   ]
  },
  {
   "cell_type": "code",
   "execution_count": null,
   "metadata": {
    "colab": {
     "base_uri": "https://localhost:8080/",
     "height": 34
    },
    "colab_type": "code",
    "id": "IgtHiVvoVFOc",
    "outputId": "f75c3696-4c74-46e4-9bec-c9fe1915b66b"
   },
   "outputs": [],
   "source": [
    "nms.x.shape"
   ]
  },
  {
   "cell_type": "code",
   "execution_count": null,
   "metadata": {
    "colab": {},
    "colab_type": "code",
    "id": "4d1kNqSrVH-o"
   },
   "outputs": [],
   "source": [
    "out_2 = pd.DataFrame({'y': y[:,0], 'y_pred': y_pred[:,0], 'y_min': pred(x, nms.x)})"
   ]
  },
  {
   "cell_type": "code",
   "execution_count": null,
   "metadata": {
    "colab": {
     "base_uri": "https://localhost:8080/",
     "height": 203
    },
    "colab_type": "code",
    "id": "bdFuEpj8VKT3",
    "outputId": "d7550a56-d67d-4a82-fbd5-f1c6e940342b"
   },
   "outputs": [],
   "source": [
    "out_2.head()"
   ]
  },
  {
   "cell_type": "markdown",
   "metadata": {
    "colab_type": "text",
    "id": "uGTcBtw_7K03"
   },
   "source": [
    "## Afternoon Session\n",
    "### Scikit-Learn"
   ]
  },
  {
   "cell_type": "code",
   "execution_count": null,
   "metadata": {
    "colab": {},
    "colab_type": "code",
    "id": "UWVind_a6p3N"
   },
   "outputs": [],
   "source": [
    "import pandas as pd\n",
    "import numpy as np\n",
    "import math\n",
    "\n",
    "from scipy import stats\n",
    "\n",
    "import matplotlib.pyplot as plt\n",
    "import seaborn as sns\n",
    "\n",
    "%matplotlib inline\n",
    "\n",
    "# model selection\n",
    "from sklearn.model_selection import train_test_split\n",
    "from sklearn.model_selection import GridSearchCV\n",
    "\n",
    "# feature selection\n",
    "from sklearn.feature_selection import RFECV\n",
    "\n",
    "# pipeline\n",
    "from sklearn.pipeline import Pipeline\n",
    "\n",
    "# preprocessing\n",
    "from sklearn.preprocessing import MinMaxScaler\n",
    "from sklearn.preprocessing import StandardScaler\n",
    "from sklearn.preprocessing import PolynomialFeatures\n",
    "\n",
    "# metrics\n",
    "from sklearn.metrics import mean_squared_error\n",
    "from sklearn.metrics import accuracy_score\n",
    "\n",
    "# LinearRegression\n",
    "from sklearn.linear_model import LinearRegression\n",
    "from sklearn.linear_model import Ridge\n",
    "from sklearn.linear_model import Lasso\n",
    "\n",
    "# Neighbors\n",
    "from sklearn.neighbors import KNeighborsRegressor\n",
    "\n",
    "# Clustering\n",
    "from sklearn.cluster import KMeans\n",
    "from scipy.cluster.hierarchy import linkage, dendrogram, fcluster\n",
    "\n",
    "# t-SNE\n",
    "from sklearn.manifold import TSNE\n",
    "\n",
    "# PCA\n",
    "from sklearn.decomposition import PCA"
   ]
  },
  {
   "cell_type": "code",
   "execution_count": null,
   "metadata": {
    "colab": {},
    "colab_type": "code",
    "id": "KGP0zoTPRKmv"
   },
   "outputs": [],
   "source": [
    "train_df = pd.read_csv('/content/gdrive/My Drive/boston/train.csv', index_col='ID')\n",
    "test_df = pd.read_csv('/content/gdrive/My Drive/boston/test.csv', index_col='ID')"
   ]
  },
  {
   "cell_type": "code",
   "execution_count": null,
   "metadata": {
    "colab": {
     "base_uri": "https://localhost:8080/",
     "height": 340
    },
    "colab_type": "code",
    "id": "X7LsmvjTROB8",
    "outputId": "77770b35-6727-4eb4-cb55-2e0a351a7316"
   },
   "outputs": [],
   "source": [
    "train_df.info()"
   ]
  },
  {
   "cell_type": "markdown",
   "metadata": {
    "colab_type": "text",
    "id": "n4cMDLVjRcSF"
   },
   "source": [
    "Create a subset of data to work with"
   ]
  },
  {
   "cell_type": "code",
   "execution_count": null,
   "metadata": {
    "colab": {
     "base_uri": "https://localhost:8080/",
     "height": 51
    },
    "colab_type": "code",
    "id": "9GdT860dRbfc",
    "outputId": "edd2f1f5-bf62-4184-97bf-a08c0a9294f4"
   },
   "outputs": [],
   "source": [
    "use_cols = ['chas', 'nox', 'rm', 'dis', 'ptratio', 'lstat']\n",
    "#predictors = train_df.drop('medv', axis=1)\n",
    "predictors = train_df[['rm']]\n",
    "target = train_df['medv']\n",
    "print(predictors.shape)\n",
    "print(target.shape)"
   ]
  },
  {
   "cell_type": "markdown",
   "metadata": {
    "colab_type": "text",
    "id": "QC0ONWZqRlNg"
   },
   "source": [
    "Create training and validation datasets"
   ]
  },
  {
   "cell_type": "code",
   "execution_count": null,
   "metadata": {
    "colab": {},
    "colab_type": "code",
    "id": "rcOABBaoRnxb"
   },
   "outputs": [],
   "source": [
    "# train test split\n",
    "X_train, X_test, y_train, y_test = train_test_split(predictors, target, test_size=0.3, random_state=40)"
   ]
  },
  {
   "cell_type": "markdown",
   "metadata": {
    "colab_type": "text",
    "id": "KPV2zpy7SRC3"
   },
   "source": [
    "### Implement Linear Regression"
   ]
  },
  {
   "cell_type": "code",
   "execution_count": null,
   "metadata": {
    "colab": {},
    "colab_type": "code",
    "id": "zmIO4eeKSN9D"
   },
   "outputs": [],
   "source": [
    "lr = LinearRegression()"
   ]
  },
  {
   "cell_type": "code",
   "execution_count": null,
   "metadata": {
    "colab": {
     "base_uri": "https://localhost:8080/",
     "height": 34
    },
    "colab_type": "code",
    "id": "dayJbW_ZVxvi",
    "outputId": "6dbe8e37-31f1-44c3-ed81-783b5b28b751"
   },
   "outputs": [],
   "source": [
    "lr.fit(X_train, y_train)"
   ]
  },
  {
   "cell_type": "code",
   "execution_count": null,
   "metadata": {
    "colab": {},
    "colab_type": "code",
    "id": "kdPk3q7WV1qW"
   },
   "outputs": [],
   "source": [
    "y_pred = lr.predict(X_test)"
   ]
  },
  {
   "cell_type": "code",
   "execution_count": null,
   "metadata": {
    "colab": {
     "base_uri": "https://localhost:8080/",
     "height": 235
    },
    "colab_type": "code",
    "id": "YfNVqh5FV9Md",
    "outputId": "9bd9d296-74a7-46aa-8f20-3e64bd833b3a"
   },
   "outputs": [],
   "source": [
    "_preds_df = pd.DataFrame(dict(observed=y_test, predicted=y_pred))\n",
    "_preds_df.head()"
   ]
  },
  {
   "cell_type": "markdown",
   "metadata": {
    "colab_type": "text",
    "id": "6VJlu3FNtKHo"
   },
   "source": [
    "How do we evaluate the accuracy of our model?"
   ]
  },
  {
   "cell_type": "code",
   "execution_count": null,
   "metadata": {
    "colab": {
     "base_uri": "https://localhost:8080/",
     "height": 51
    },
    "colab_type": "code",
    "id": "hJLkp0QGs-jC",
    "outputId": "ad5910e8-ac7f-45e8-c464-36fda7313933"
   },
   "outputs": [],
   "source": [
    "print('Score: {}'.format(lr.score(X_test, y_test)))\n",
    "print('MSE: {}'.format(mean_squared_error(y_test, y_pred)))"
   ]
  },
  {
   "cell_type": "markdown",
   "metadata": {
    "colab_type": "text",
    "id": "qiP2_m1cupW1"
   },
   "source": [
    "### Can we build a better model?\n",
    "* Let's start by looking at our data again."
   ]
  },
  {
   "cell_type": "code",
   "execution_count": null,
   "metadata": {
    "colab": {
     "base_uri": "https://localhost:8080/",
     "height": 232
    },
    "colab_type": "code",
    "id": "sK5xVaSetsVI",
    "outputId": "2656d006-4d46-46b4-c5a0-c275c1deebed"
   },
   "outputs": [],
   "source": [
    "plt.scatter(_rooms, _medv)\n",
    "plt.plot(_r, _m, color='red', linewidth=3)\n",
    "plt.xlabel('No of Rooms')\n",
    "plt.ylabel('Median Value')\n",
    "plt.show()"
   ]
  },
  {
   "cell_type": "markdown",
   "metadata": {
    "colab_type": "text",
    "id": "VNU2Z700u-Q9"
   },
   "source": [
    "* do the data points form a linear relationship? What if we hypothesize a quadratic relationship?\n",
    "\n",
    "$y = w_0 + w_1.x_1 + w_2.x_1^2$"
   ]
  },
  {
   "cell_type": "code",
   "execution_count": null,
   "metadata": {
    "colab": {
     "base_uri": "https://localhost:8080/",
     "height": 235
    },
    "colab_type": "code",
    "id": "Cf3JqKVsu7he",
    "outputId": "92fd854c-05fc-48d3-b94e-d585bb2f0e46"
   },
   "outputs": [],
   "source": [
    "predictors.head()"
   ]
  },
  {
   "cell_type": "markdown",
   "metadata": {
    "colab_type": "text",
    "id": "pxXnabwrv0uJ"
   },
   "source": [
    "* Let's engineer a new feature by taking the square of the rooms"
   ]
  },
  {
   "cell_type": "code",
   "execution_count": null,
   "metadata": {
    "colab": {
     "base_uri": "https://localhost:8080/",
     "height": 119
    },
    "colab_type": "code",
    "id": "bS6LPxaSvyeO",
    "outputId": "1272ffac-9d39-450e-aac1-23cc2c619965"
   },
   "outputs": [],
   "source": [
    "predictors['rm_2'] = predictors['rm'].map(lambda x: x ** 2)"
   ]
  },
  {
   "cell_type": "code",
   "execution_count": null,
   "metadata": {
    "colab": {
     "base_uri": "https://localhost:8080/",
     "height": 235
    },
    "colab_type": "code",
    "id": "Lm0Uls-LwEx-",
    "outputId": "8daac134-157d-4af1-f9fe-1fa13ee5788b"
   },
   "outputs": [],
   "source": [
    "predictors.head()"
   ]
  },
  {
   "cell_type": "markdown",
   "metadata": {
    "colab_type": "text",
    "id": "tQffR7B3xq0T"
   },
   "source": [
    "### Let's train a new model"
   ]
  },
  {
   "cell_type": "code",
   "execution_count": null,
   "metadata": {
    "colab": {
     "base_uri": "https://localhost:8080/",
     "height": 51
    },
    "colab_type": "code",
    "id": "LvnHjbOHwNBL",
    "outputId": "536ae103-625d-4465-ee6f-71c94ba8b589"
   },
   "outputs": [],
   "source": [
    "# train test split\n",
    "X_train, X_test, y_train, y_test = train_test_split(predictors, target, test_size=0.3, random_state=40)\n",
    "\n",
    "lr_2 = LinearRegression()\n",
    "lr_2.fit(X_train, y_train)\n",
    "y_pred = lr_2.predict(X_test)\n",
    "\n",
    "_preds_df = pd.DataFrame(dict(observed=y_test, predicted=y_pred))\n",
    "_preds_df.head()\n",
    "\n",
    "print('Score: {}'.format(lr_2.score(X_test, y_test)))\n",
    "print('MSE: {}'.format(mean_squared_error(y_test, y_pred)))"
   ]
  },
  {
   "cell_type": "markdown",
   "metadata": {
    "colab_type": "text",
    "id": "A6iJNkc-027k"
   },
   "source": [
    "## Train a new model using more features"
   ]
  },
  {
   "cell_type": "code",
   "execution_count": null,
   "metadata": {
    "colab": {
     "base_uri": "https://localhost:8080/",
     "height": 340
    },
    "colab_type": "code",
    "id": "eQJSv1nh0514",
    "outputId": "b3179a8f-a827-4f39-d548-8bc9f0192511"
   },
   "outputs": [],
   "source": [
    "train_df.info()"
   ]
  },
  {
   "cell_type": "code",
   "execution_count": null,
   "metadata": {
    "colab": {},
    "colab_type": "code",
    "id": "09UML2UD22RF"
   },
   "outputs": [],
   "source": [
    "#extract y\n",
    "y = train_df['medv'].values\n",
    "\n",
    "#engineer new features (optional)\n",
    "train_df['new_feature'] = train_df['tax'].map(lambda x: x ** 3)\n",
    "#extract x\n",
    "x = train_df[['crim', 'tax', 'black', 'new_feature']].values"
   ]
  },
  {
   "cell_type": "code",
   "execution_count": null,
   "metadata": {
    "colab": {},
    "colab_type": "code",
    "id": "VdeH-kiF3UXc"
   },
   "outputs": [],
   "source": [
    "#split the data using train_test_split"
   ]
  },
  {
   "cell_type": "code",
   "execution_count": null,
   "metadata": {
    "colab": {},
    "colab_type": "code",
    "id": "HKCm898A3bOp"
   },
   "outputs": [],
   "source": [
    "#use LinearRegresson to `.fit()`"
   ]
  },
  {
   "cell_type": "code",
   "execution_count": null,
   "metadata": {
    "colab": {},
    "colab_type": "code",
    "id": "dWt5IPVp3_me"
   },
   "outputs": [],
   "source": [
    "#evaluate using `.score()`"
   ]
  },
  {
   "cell_type": "code",
   "execution_count": null,
   "metadata": {
    "colab": {},
    "colab_type": "code",
    "id": "4Y8L0-RqEmxz"
   },
   "outputs": [],
   "source": [
    "sns."
   ]
  },
  {
   "cell_type": "code",
   "execution_count": null,
   "metadata": {
    "colab": {
     "base_uri": "https://localhost:8080/",
     "height": 51
    },
    "colab_type": "code",
    "id": "J6Fu6LzdDTUg",
    "outputId": "9f015fb7-90b2-46d5-d6e9-a5c3d53d5acf"
   },
   "outputs": [],
   "source": [
    "use_cols = ['chas', 'nox', 'rm', 'dis', 'ptratio', 'lstat']\n",
    "predictors = train_df.drop('medv', axis=1)\n",
    "#predictors = train_df[use_cols]\n",
    "target = train_df['medv']\n",
    "print(predictors.shape)\n",
    "print(target.shape)"
   ]
  },
  {
   "cell_type": "code",
   "execution_count": null,
   "metadata": {
    "colab": {},
    "colab_type": "code",
    "id": "IS5eRLizDaN0"
   },
   "outputs": [],
   "source": [
    "# train test split\n",
    "X_train, X_test, y_train, y_test = train_test_split(predictors, target, test_size=0.3, random_state=40)"
   ]
  },
  {
   "cell_type": "code",
   "execution_count": null,
   "metadata": {
    "colab": {},
    "colab_type": "code",
    "id": "xq9FY1FZDbAv"
   },
   "outputs": [],
   "source": [
    "steps = [\n",
    "    ('scaler', MinMaxScaler()),\n",
    "    ('model', LinearRegression())\n",
    "]\n",
    "pipeline = Pipeline(steps)"
   ]
  },
  {
   "cell_type": "code",
   "execution_count": null,
   "metadata": {
    "colab": {},
    "colab_type": "code",
    "id": "pQjE0ECIEIxp"
   },
   "outputs": [],
   "source": [
    "parameters = {\n",
    "    'model__normalize': [False, True]\n",
    "}"
   ]
  },
  {
   "cell_type": "code",
   "execution_count": null,
   "metadata": {
    "colab": {
     "base_uri": "https://localhost:8080/",
     "height": 326
    },
    "colab_type": "code",
    "id": "4GVYMidcD3mo",
    "outputId": "d853ca01-5f8f-42c7-9e8b-017ef194b2c9"
   },
   "outputs": [],
   "source": [
    "model = GridSearchCV(pipeline, parameters)\n",
    "model.fit(X_train, y_train)"
   ]
  },
  {
   "cell_type": "code",
   "execution_count": null,
   "metadata": {
    "colab": {
     "base_uri": "https://localhost:8080/",
     "height": 51
    },
    "colab_type": "code",
    "id": "3OOeKmnMFY0X",
    "outputId": "bb317274-8357-4bf0-e996-53a338d3f62b"
   },
   "outputs": [],
   "source": [
    "print('Score: {}'.format(model.score(X_test, y_test)))\n",
    "print('MSE: {}'.format(mean_squared_error(y_test, model.predict(X_test))))"
   ]
  },
  {
   "cell_type": "code",
   "execution_count": null,
   "metadata": {
    "colab": {
     "base_uri": "https://localhost:8080/",
     "height": 371
    },
    "colab_type": "code",
    "id": "3fBTKXLaJdQy",
    "outputId": "04a0086f-2e93-47cb-eb72-6717c60531d4"
   },
   "outputs": [],
   "source": [
    "predictors = train_df.drop('medv', axis=1)\n",
    "predictors['rm_2'] = predictors['rm'].map(lambda x: x ** 2)\n",
    "X_train, X_test, y_train, y_test = train_test_split(predictors, target, test_size=0.3, random_state=40)\n",
    "columns = predictors.columns\n",
    "lr_3 = LinearRegression()\n",
    "lr_3.fit(X_train, y_train)\n",
    "print('Score: {}'.format(lr_3.score(X_test, y_test)))\n",
    "print('MSE: {}'.format(mean_squared_error(y_test, lr_3.predict(X_test))))\n",
    "coefficients = lr_3.coef_\n",
    "print(coefficients)\n",
    "feature_importance = pd.Series(coefficients, index=columns)\n",
    "ordered_feature_importance = feature_importance.abs().sort_values()\n",
    "ordered_feature_importance.plot.barh()\n",
    "plt.show()"
   ]
  },
  {
   "cell_type": "code",
   "execution_count": null,
   "metadata": {
    "colab": {
     "base_uri": "https://localhost:8080/",
     "height": 153
    },
    "colab_type": "code",
    "id": "xzKZeaZDMaz3",
    "outputId": "812a6cd9-1f71-4071-c982-cc0fec0c5c8d"
   },
   "outputs": [],
   "source": [
    "predictors = train_df[['nox', 'rm', 'chas', 'dis', 'ptratio', 'lstat', 'rad']]\n",
    "predictors['rm_2'] = predictors['rm'].map(lambda x: x ** 2)\n",
    "X_train, X_test, y_train, y_test = train_test_split(predictors, target, test_size=0.3, random_state=40)\n",
    "columns = predictors.columns\n",
    "lr_4 = LinearRegression()\n",
    "lr_4.fit(X_train, y_train)\n",
    "print('Score: {}'.format(lr_4.score(X_test, y_test)))\n",
    "print('MSE: {}'.format(mean_squared_error(y_test, lr_4.predict(X_test))))"
   ]
  },
  {
   "cell_type": "code",
   "execution_count": null,
   "metadata": {
    "colab": {
     "base_uri": "https://localhost:8080/",
     "height": 51
    },
    "colab_type": "code",
    "id": "VuaYT-npPdWu",
    "outputId": "1163e48e-8b10-4d61-bbe4-a1541556f01b"
   },
   "outputs": [],
   "source": [
    "predictors = train_df[['nox', 'rm', 'chas', 'dis', 'ptratio', 'lstat', 'rad']]\n",
    "steps = [\n",
    "    ('scaler', MinMaxScaler()),\n",
    "    ('poly', PolynomialFeatures(3)),\n",
    "    ('model', LinearRegression())\n",
    "]\n",
    "X_train, X_test, y_train, y_test = train_test_split(predictors, target, test_size=0.3, random_state=40)\n",
    "columns = predictors.columns\n",
    "lr_5 = Pipeline(steps)\n",
    "lr_5.fit(X_train, y_train)\n",
    "print('Score: {}'.format(lr_5.score(X_test, y_test)))\n",
    "print('MSE: {}'.format(mean_squared_error(y_test, lr_5.predict(X_test))))"
   ]
  },
  {
   "cell_type": "code",
   "execution_count": null,
   "metadata": {
    "colab": {},
    "colab_type": "code",
    "id": "IwmEd3e1JgNy"
   },
   "outputs": [],
   "source": []
  }
 ],
 "metadata": {
  "colab": {
   "collapsed_sections": [],
   "name": "AMMI_DAY_4",
   "provenance": []
  },
  "kernelspec": {
   "display_name": "Python 3",
   "language": "python",
   "name": "python3"
  },
  "language_info": {
   "codemirror_mode": {
    "name": "ipython",
    "version": 3
   },
   "file_extension": ".py",
   "mimetype": "text/x-python",
   "name": "python",
   "nbconvert_exporter": "python",
   "pygments_lexer": "ipython3",
   "version": "3.7.4"
  }
 },
 "nbformat": 4,
 "nbformat_minor": 1
}
