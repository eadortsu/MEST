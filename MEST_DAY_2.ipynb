{
 "cells": [
  {
   "cell_type": "markdown",
   "metadata": {
    "colab_type": "text",
    "id": "z0OS8yDV7Zvp"
   },
   "source": [
    "# MEST Day 2"
   ]
  },
  {
   "cell_type": "markdown",
   "metadata": {
    "colab_type": "text",
    "id": "264RJj2_7cU4"
   },
   "source": [
    "## Morning Session\n",
    "### Bias, Variance, Regularization"
   ]
  },
  {
   "cell_type": "code",
   "execution_count": 1,
   "metadata": {
    "colab": {},
    "colab_type": "code",
    "id": "Y5ijLhr1YrJq"
   },
   "outputs": [],
   "source": [
    "import pandas as pd\n",
    "import numpy as np\n",
    "import math\n",
    "\n",
    "from scipy import stats\n",
    "\n",
    "import matplotlib.pyplot as plt\n",
    "import seaborn as sns\n",
    "\n",
    "%matplotlib inline\n",
    "\n",
    "# model selection\n",
    "from sklearn.model_selection import train_test_split\n",
    "from sklearn.model_selection import GridSearchCV\n",
    "\n",
    "# feature selection\n",
    "from sklearn.feature_selection import RFECV\n",
    "\n",
    "# pipeline\n",
    "from sklearn.pipeline import Pipeline\n",
    "\n",
    "# preprocessing\n",
    "from sklearn.preprocessing import MinMaxScaler\n",
    "from sklearn.preprocessing import StandardScaler\n",
    "from sklearn.preprocessing import PolynomialFeatures\n",
    "\n",
    "# metrics\n",
    "from sklearn.metrics import mean_squared_error\n",
    "from sklearn.metrics import accuracy_score\n",
    "\n",
    "# LinearRegression\n",
    "from sklearn.linear_model import LinearRegression\n",
    "from sklearn.linear_model import Ridge\n",
    "from sklearn.linear_model import Lasso\n",
    "\n",
    "# Neighbors\n",
    "from sklearn.neighbors import KNeighborsRegressor\n",
    "\n",
    "# Clustering\n",
    "from sklearn.cluster import KMeans\n",
    "from scipy.cluster.hierarchy import linkage, dendrogram, fcluster\n",
    "\n",
    "# t-SNE\n",
    "from sklearn.manifold import TSNE\n",
    "\n",
    "# PCA\n",
    "from sklearn.decomposition import PCA"
   ]
  },
  {
   "cell_type": "code",
   "execution_count": null,
   "metadata": {
    "colab": {},
    "colab_type": "code",
    "id": "m9fJglm_Z-Xz"
   },
   "outputs": [],
   "source": [
    "train_df = pd.read_csv('./boston/train.csv', index_col='ID')\n",
    "test_df = pd.read_csv('./boston/test.csv', index_col='ID')"
   ]
  },
  {
   "cell_type": "markdown",
   "metadata": {
    "colab_type": "text",
    "id": "uoK1nJP3buEa"
   },
   "source": [
    "Let's over-engineer a Linear Regression Model"
   ]
  },
  {
   "cell_type": "code",
   "execution_count": null,
   "metadata": {
    "colab": {
     "base_uri": "https://localhost:8080/",
     "height": 51
    },
    "colab_type": "code",
    "id": "I20JaX2QbhRN",
    "outputId": "88509495-1083-443f-8332-544b5dcc6bec"
   },
   "outputs": [],
   "source": [
    "predictors = train_df[['nox', 'rm', 'chas', 'dis', 'ptratio', 'lstat', 'rad']]\n",
    "target = train_df['medv']\n",
    "steps = [\n",
    "    ('scaler', MinMaxScaler()),\n",
    "    ('poly', PolynomialFeatures(3))\n",
    "]\n",
    "X_train, X_test, y_train, y_test = train_test_split(predictors, target, test_size=0.3, random_state=40)\n",
    "columns = predictors.columns\n",
    "pipe = Pipeline(steps)\n",
    "pipe.fit(X_train, y_train)\n",
    "lr = LinearRegression()\n",
    "lr.fit(pipe.transform(X_train), y_train)\n",
    "print('Score: {}'.format(lr.score(pipe.transform(X_test), y_test)))\n",
    "print('MSE: {}'.format(mean_squared_error(y_test, lr.predict(pipe.transform(X_test)))))"
   ]
  },
  {
   "cell_type": "markdown",
   "metadata": {
    "colab_type": "text",
    "id": "W8qS5NeeeDQS"
   },
   "source": [
    "### Our loss was reducing, and our model quality was improving, so what went wrong?\n",
    "\n",
    "Let's create two models and compare the magnitude of coefficients"
   ]
  },
  {
   "cell_type": "code",
   "execution_count": null,
   "metadata": {
    "colab": {
     "base_uri": "https://localhost:8080/",
     "height": 86
    },
    "colab_type": "code",
    "id": "tlHwgkZvKzbP",
    "outputId": "58f43f09-efa6-4b91-c5f8-2e21f8d9312e"
   },
   "outputs": [],
   "source": [
    "s1 = [\n",
    "    ('scaler', MinMaxScaler())\n",
    "]\n",
    "p = Pipeline(s1)\n",
    "p.fit(X_train, y_train)\n",
    "lr_linear = LinearRegression()\n",
    "lr_linear.fit(p.transform(X_train), y_train)\n",
    "print('Score: {}'.format(lr_linear.score(p.transform(X_test), y_test)))\n",
    "print('MSE: {}'.format(mean_squared_error(y_test, lr_linear.predict(p.transform(X_test)))))\n",
    "print(lr_linear.coef_)"
   ]
  },
  {
   "cell_type": "code",
   "execution_count": null,
   "metadata": {
    "colab": {
     "base_uri": "https://localhost:8080/",
     "height": 206
    },
    "colab_type": "code",
    "id": "yLPFFWNhfweT",
    "outputId": "a2935aa9-2675-4843-efad-445933b7e189"
   },
   "outputs": [],
   "source": [
    "s2 = [\n",
    "    ('scaler', MinMaxScaler()),\n",
    "    ('poly', PolynomialFeatures(2))\n",
    "]\n",
    "p_2 = Pipeline(s2)\n",
    "p_2.fit(X_train, y_train)\n",
    "lr_quad = LinearRegression()\n",
    "lr_quad.fit(p_2.transform(X_train), y_train)\n",
    "print('Score: {}'.format(lr_quad.score(p_2.transform(X_test), y_test)))\n",
    "print('MSE: {}'.format(mean_squared_error(y_test, lr_quad.predict(p_2.transform(X_test)))))\n",
    "print(lr_quad.coef_)"
   ]
  },
  {
   "cell_type": "markdown",
   "metadata": {
    "colab_type": "text",
    "id": "PBhspnP6nQFV"
   },
   "source": [
    "* Let's look at the coefficients of our cubic equation"
   ]
  },
  {
   "cell_type": "code",
   "execution_count": null,
   "metadata": {
    "colab": {
     "base_uri": "https://localhost:8080/",
     "height": 531
    },
    "colab_type": "code",
    "id": "zM575vEbnUVo",
    "outputId": "5ceffcf9-d7a9-446b-e4b7-13ffbdb1095f"
   },
   "outputs": [],
   "source": [
    "print(lr.coef_)"
   ]
  },
  {
   "cell_type": "markdown",
   "metadata": {
    "colab_type": "text",
    "id": "QR5dQVUxnW96"
   },
   "source": [
    "* We know that `lr_quad` is more complex than `lr_linear`\n",
    "* A more complex model is said to have high variance\n",
    "* A less complex model is said to high bias\n",
    "* The longer you train a model, the lower the bias and the higher the variance\n",
    "* What do we notice?\n",
    "* What can we do about our model?"
   ]
  },
  {
   "cell_type": "markdown",
   "metadata": {
    "colab_type": "text",
    "id": "pB86B23CqkA8"
   },
   "source": [
    "1. Get more data to increase model complexity during training\n",
    "2. Use n-fold cross-validation\n",
    "3. Simplify our model (Regularization) by reducing the variance"
   ]
  },
  {
   "cell_type": "markdown",
   "metadata": {
    "colab_type": "text",
    "id": "4fSo8-WhsAMO"
   },
   "source": [
    "### What is regularization?\n",
    "* Introducing a penalty to the cost function\n",
    "* Use Feature Elimination"
   ]
  },
  {
   "cell_type": "markdown",
   "metadata": {
    "colab_type": "text",
    "id": "LNiQkyOcrOfi"
   },
   "source": [
    "### L1 Regularization - Lasso Regression\n",
    "* Sets the coefficient of certain features to zero\n",
    "* Acts as a feature selection mechanism\n",
    "* Add a penalty based on size of coefficients (weights)\n",
    "* Sum of absolutes - L1 Norm $\\sum\\limits_{j=1}^{n}{\\left|w_{j}\\right| } $\n",
    "* Add a regularization term - $\\lambda$\n",
    "* High $\\lambda$ is high bias, low variance\n",
    "* Low $\\lambda$ is low bias, high variance"
   ]
  },
  {
   "cell_type": "code",
   "execution_count": null,
   "metadata": {
    "colab": {
     "base_uri": "https://localhost:8080/",
     "height": 414
    },
    "colab_type": "code",
    "id": "Guat7w1xOtpZ",
    "outputId": "e40f6410-cb22-4dd7-9248-7e6f3725ad04"
   },
   "outputs": [],
   "source": [
    "from sklearn.linear_model import Lasso\n",
    "\n",
    "l_1 = Lasso(alpha = 0.9)\n",
    "l_1.fit(pipe.transform(X_train), y_train)\n",
    "print('Score: {}'.format(l_1.score(pipe.transform(X_test), y_test)))\n",
    "print('MSE: {}'.format(mean_squared_error(y_test, l_1.predict(pipe.transform(X_test)))))\n",
    "print(l_1.coef_)"
   ]
  },
  {
   "cell_type": "code",
   "execution_count": null,
   "metadata": {
    "colab": {
     "base_uri": "https://localhost:8080/",
     "height": 566
    },
    "colab_type": "code",
    "id": "xqqwtuBkPSMh",
    "outputId": "49c5f546-0d1d-4c6b-e338-d2c544526922"
   },
   "outputs": [],
   "source": [
    "l_2 = Lasso(alpha = 0.1)\n",
    "l_2.fit(pipe.transform(X_train), y_train)\n",
    "print('Score: {}'.format(l_2.score(pipe.transform(X_test), y_test)))\n",
    "print('MSE: {}'.format(mean_squared_error(y_test, l_2.predict(pipe.transform(X_test)))))\n",
    "print(l_2.coef_)"
   ]
  },
  {
   "cell_type": "markdown",
   "metadata": {
    "colab_type": "text",
    "id": "MgZFRtgErhqU"
   },
   "source": [
    "### L2 Regularization - Ridge Regression - Tikhonov Regularization\n",
    "* Forces the magnitude of coefficients close to zero\n",
    "* Add a penalty based on size of coefficients (weights)\n",
    "* Sum of squares - L2 Norm $\\sum\\limits_{j=1}^{n}{w_{j}^2} $\n",
    "* Add a regularization term - $\\lambda$\n",
    "* High $\\lambda$ is high bias, low variance\n",
    "* Low $\\lambda$ is low bias, high variance"
   ]
  },
  {
   "cell_type": "code",
   "execution_count": null,
   "metadata": {
    "colab": {
     "base_uri": "https://localhost:8080/",
     "height": 566
    },
    "colab_type": "code",
    "id": "L6apx9b6H5rT",
    "outputId": "5a2303f2-1608-47de-b79c-14b8765f2e71"
   },
   "outputs": [],
   "source": [
    "from sklearn.linear_model import Ridge\n",
    "\n",
    "r_1 = Ridge(alpha = 0.9)\n",
    "r_1.fit(pipe.transform(X_train), y_train)\n",
    "print('Score: {}'.format(r_1.score(pipe.transform(X_test), y_test)))\n",
    "print('MSE: {}'.format(mean_squared_error(y_test, r_1.predict(pipe.transform(X_test)))))\n",
    "print(r_1.coef_)"
   ]
  },
  {
   "cell_type": "code",
   "execution_count": null,
   "metadata": {
    "colab": {
     "base_uri": "https://localhost:8080/",
     "height": 566
    },
    "colab_type": "code",
    "id": "wJkAXsxyJJdV",
    "outputId": "25ab2c6c-6cb6-48f5-dc4b-b4a86f388030"
   },
   "outputs": [],
   "source": [
    "\n",
    "r_2 = Ridge(alpha = 0.1)\n",
    "r_2.fit(pipe.transform(X_train), y_train)\n",
    "print('Score: {}'.format(r_2.score(pipe.transform(X_test), y_test)))\n",
    "print('MSE: {}'.format(mean_squared_error(y_test, r_2.predict(pipe.transform(X_test)))))\n",
    "print(r_2.coef_)"
   ]
  },
  {
   "cell_type": "markdown",
   "metadata": {
    "colab_type": "text",
    "id": "RLCEZ8hu7rLr"
   },
   "source": [
    "## Afternoon Session\n",
    "### Logistic Regression\n",
    "* Output a probability\n",
    "* Probabilities are mutually exclusive\n",
    "* Given two classes a, b $P(a) = 1 - P(b)$\n",
    "* Loss Function (Log Loss or Cross Entropy): $\\frac{1}{m} \\sum\\limits_{i=1}^{m}{-y.log(\\hat{y}) + (1-y).log(1-\\hat{y})}$\n",
    "### More Scikit-Learn"
   ]
  },
  {
   "cell_type": "code",
   "execution_count": null,
   "metadata": {
    "colab": {
     "base_uri": "https://localhost:8080/",
     "height": 188
    },
    "colab_type": "code",
    "id": "o3-emoB57UWI",
    "outputId": "01099ddd-8304-45f3-8ff7-980a01628856"
   },
   "outputs": [],
   "source": [
    "import pandas as pd\n",
    "\n",
    "_headers = ['sepal_length', 'sepal_width', 'petal_length', 'petal_width', 'class']\n",
    "df = pd.read_csv('https://archive.ics.uci.edu/ml/machine-learning-databases/iris/iris.data', names=_headers)\n",
    "df.info()"
   ]
  },
  {
   "cell_type": "code",
   "execution_count": null,
   "metadata": {
    "colab": {
     "base_uri": "https://localhost:8080/",
     "height": 203
    },
    "colab_type": "code",
    "id": "sOLReh6vLKH2",
    "outputId": "d76de8f3-ce55-44c9-8cc3-75404a3e74bf"
   },
   "outputs": [],
   "source": [
    "df.tail()"
   ]
  },
  {
   "cell_type": "code",
   "execution_count": null,
   "metadata": {
    "colab": {
     "base_uri": "https://localhost:8080/",
     "height": 86
    },
    "colab_type": "code",
    "id": "C7YsBMZ7Da0C",
    "outputId": "0912135c-fed0-4259-94aa-2eee83f6b2e8"
   },
   "outputs": [],
   "source": [
    "df['class'].value_counts()"
   ]
  },
  {
   "cell_type": "markdown",
   "metadata": {
    "colab_type": "text",
    "id": "0l0NVAu3EV9_"
   },
   "source": [
    "### Split Data"
   ]
  },
  {
   "cell_type": "code",
   "execution_count": null,
   "metadata": {
    "colab": {},
    "colab_type": "code",
    "id": "4NIuZFvjDn0m"
   },
   "outputs": [],
   "source": [
    "predictors = df.drop(['class'], axis=1).values\n",
    "labels = df[['class']].values\n",
    "from sklearn.model_selection import train_test_split\n",
    "X_train, X_test, y_train, y_test, = train_test_split(predictors, labels, test_size=0.5)"
   ]
  },
  {
   "cell_type": "markdown",
   "metadata": {
    "colab_type": "text",
    "id": "DQPua0gBEZjG"
   },
   "source": [
    "### Train a Logistic Regression Model"
   ]
  },
  {
   "cell_type": "code",
   "execution_count": null,
   "metadata": {
    "colab": {
     "base_uri": "https://localhost:8080/",
     "height": 226
    },
    "colab_type": "code",
    "id": "6LaGFHa9EouX",
    "outputId": "3d76616a-ca3b-4f2c-df48-9adc31c0da1f"
   },
   "outputs": [],
   "source": [
    "from sklearn.linear_model import LogisticRegression\n",
    "\n",
    "log_model = LogisticRegression()\n",
    "log_model.fit(X_train, y_train)"
   ]
  },
  {
   "cell_type": "markdown",
   "metadata": {
    "colab_type": "text",
    "id": "kLak6zmvE9ks"
   },
   "source": [
    "### Predict"
   ]
  },
  {
   "cell_type": "code",
   "execution_count": null,
   "metadata": {
    "colab": {},
    "colab_type": "code",
    "id": "vVXDz7S_E-7C"
   },
   "outputs": [],
   "source": [
    "y_pred = log_model.predict(X_test)\n",
    "y_proba = log_model.predict_proba(X_test)"
   ]
  },
  {
   "cell_type": "code",
   "execution_count": null,
   "metadata": {
    "colab": {
     "base_uri": "https://localhost:8080/",
     "height": 511
    },
    "colab_type": "code",
    "id": "mehKmNRVNBre",
    "outputId": "2bf64aa9-ff48-4f3c-921e-0c2b982a96cc"
   },
   "outputs": [],
   "source": [
    "labels_df = pd.DataFrame(dict(observed=y_test.reshape(-1), predicted=y_pred))\n",
    "labels_df.head(n=15)"
   ]
  },
  {
   "cell_type": "markdown",
   "metadata": {
    "colab_type": "text",
    "id": "1t7hB2WpFJlE"
   },
   "source": [
    "### Evaluate"
   ]
  },
  {
   "cell_type": "code",
   "execution_count": null,
   "metadata": {
    "colab": {
     "base_uri": "https://localhost:8080/",
     "height": 34
    },
    "colab_type": "code",
    "id": "qR7oUka6FL-o",
    "outputId": "84f0fb52-8ac1-4901-d1b6-41fbf4766a82"
   },
   "outputs": [],
   "source": [
    "print('Score: {}'.format(log_model.score(X_test, y_test)))"
   ]
  },
  {
   "cell_type": "markdown",
   "metadata": {
    "colab_type": "text",
    "id": "6jEKBGOAO-iY"
   },
   "source": [
    "### Import Cars"
   ]
  },
  {
   "cell_type": "code",
   "execution_count": null,
   "metadata": {
    "colab": {
     "base_uri": "https://localhost:8080/",
     "height": 223
    },
    "colab_type": "code",
    "id": "Ct1frQAPOFBG",
    "outputId": "dc404f6f-6993-4d12-ddfb-1af28b0b5740"
   },
   "outputs": [],
   "source": [
    "_headers = ['buying', 'maint', 'doors', 'persons', 'lug_boot', 'safety', 'car']\n",
    "df_cars = pd.read_csv('https://archive.ics.uci.edu/ml/machine-learning-databases/car/car.data', names=_headers)\n",
    "df_cars.info()"
   ]
  },
  {
   "cell_type": "code",
   "execution_count": null,
   "metadata": {
    "colab": {
     "base_uri": "https://localhost:8080/",
     "height": 203
    },
    "colab_type": "code",
    "id": "_LQnNz3qPkFW",
    "outputId": "94f8a61c-7542-47aa-fe71-e975787b4b50"
   },
   "outputs": [],
   "source": [
    "df_cars.head()"
   ]
  },
  {
   "cell_type": "code",
   "execution_count": null,
   "metadata": {
    "colab": {
     "base_uri": "https://localhost:8080/",
     "height": 203
    },
    "colab_type": "code",
    "id": "mNZuNhynPniM",
    "outputId": "ac4eb797-a858-438c-a0d7-da252d48c0aa"
   },
   "outputs": [],
   "source": [
    "df_cars.tail()"
   ]
  },
  {
   "cell_type": "code",
   "execution_count": null,
   "metadata": {
    "colab": {
     "base_uri": "https://localhost:8080/",
     "height": 397
    },
    "colab_type": "code",
    "id": "MJ6lzI1pPrdR",
    "outputId": "811cd5dd-f772-4a1a-8c47-2d5f315952f6"
   },
   "outputs": [],
   "source": [
    "predictors = df_cars.drop(['car'], axis=1).values\n",
    "labels = df_cars['car'].values\n",
    "\n",
    "X_train, X_test, y_train, y_test = train_test_split(predictors, labels, test_size=0.2)\n",
    "\n",
    "log_model_2 = LogisticRegression()\n",
    "log_model_2.fit(X_train, y_train)"
   ]
  },
  {
   "cell_type": "markdown",
   "metadata": {
    "colab_type": "text",
    "id": "y0k8i5DqRFFC"
   },
   "source": [
    "### Convert categorical variables using `pd.get_dummies()`"
   ]
  },
  {
   "cell_type": "code",
   "execution_count": null,
   "metadata": {
    "colab": {},
    "colab_type": "code",
    "id": "5jHmAazLQant"
   },
   "outputs": [],
   "source": [
    "?pd.get_dummies()"
   ]
  },
  {
   "cell_type": "code",
   "execution_count": null,
   "metadata": {
    "colab": {},
    "colab_type": "code",
    "id": "2cViqSLzRRFV"
   },
   "outputs": [],
   "source": [
    "buying_df = pd.get_dummies(df_cars['buying'], prefix='buying', drop_first=True)"
   ]
  },
  {
   "cell_type": "code",
   "execution_count": null,
   "metadata": {
    "colab": {
     "base_uri": "https://localhost:8080/",
     "height": 154
    },
    "colab_type": "code",
    "id": "HzzkFnw1R50T",
    "outputId": "048f5e75-bb06-4074-acd5-89a2f571615c"
   },
   "outputs": [],
   "source": [
    "buying_df.info()"
   ]
  },
  {
   "cell_type": "code",
   "execution_count": null,
   "metadata": {
    "colab": {
     "base_uri": "https://localhost:8080/",
     "height": 203
    },
    "colab_type": "code",
    "id": "mXL1MeLtR8un",
    "outputId": "d2a88148-e904-43f1-8cab-81e36adab500"
   },
   "outputs": [],
   "source": [
    "buying_df.head()"
   ]
  },
  {
   "cell_type": "code",
   "execution_count": null,
   "metadata": {
    "colab": {},
    "colab_type": "code",
    "id": "xhWv_evJSET7"
   },
   "outputs": [],
   "source": [
    "?pd.concat"
   ]
  },
  {
   "cell_type": "code",
   "execution_count": null,
   "metadata": {
    "colab": {},
    "colab_type": "code",
    "id": "uBEUMlNTSi_V"
   },
   "outputs": [],
   "source": [
    "df_cars = pd.concat([df_cars, buying_df], axis=1)"
   ]
  },
  {
   "cell_type": "code",
   "execution_count": null,
   "metadata": {
    "colab": {
     "base_uri": "https://localhost:8080/",
     "height": 274
    },
    "colab_type": "code",
    "id": "_CBgmVa8SrEs",
    "outputId": "7450551e-7389-4207-d49f-3258e701b9cc"
   },
   "outputs": [],
   "source": [
    "df_cars.info()\n"
   ]
  },
  {
   "cell_type": "code",
   "execution_count": null,
   "metadata": {
    "colab": {},
    "colab_type": "code",
    "id": "bOFjhLcJSvmh"
   },
   "outputs": [],
   "source": [
    "df_cars.drop(['buying'], axis=1, inplace=True)"
   ]
  },
  {
   "cell_type": "code",
   "execution_count": null,
   "metadata": {
    "colab": {
     "base_uri": "https://localhost:8080/",
     "height": 257
    },
    "colab_type": "code",
    "id": "nWMpBPdlTFaj",
    "outputId": "4c8bbf3e-3477-4fab-c746-1371c7d6fb2b"
   },
   "outputs": [],
   "source": [
    "df_cars.info()"
   ]
  },
  {
   "cell_type": "code",
   "execution_count": null,
   "metadata": {
    "colab": {
     "base_uri": "https://localhost:8080/",
     "height": 103
    },
    "colab_type": "code",
    "id": "NHu63cnlTH75",
    "outputId": "7906aff7-b056-433c-8900-a65bf99c9fed"
   },
   "outputs": [],
   "source": [
    "df_cars['maint'].value_counts()"
   ]
  },
  {
   "cell_type": "code",
   "execution_count": null,
   "metadata": {
    "colab": {
     "base_uri": "https://localhost:8080/",
     "height": 154
    },
    "colab_type": "code",
    "id": "RpWQuVvETcVl",
    "outputId": "68f3b944-d83f-4364-faee-56811d17e52d"
   },
   "outputs": [],
   "source": [
    "maint_df = pd.get_dummies(df_cars['maint'], prefix='maint', drop_first=True)\n",
    "maint_df.info()"
   ]
  },
  {
   "cell_type": "code",
   "execution_count": null,
   "metadata": {
    "colab": {
     "base_uri": "https://localhost:8080/",
     "height": 308
    },
    "colab_type": "code",
    "id": "gsBri_QITy6W",
    "outputId": "590f3056-d708-4b64-de9e-517493fa1170"
   },
   "outputs": [],
   "source": [
    "df_cars = pd.concat([df_cars, maint_df], axis=1)\n",
    "df_cars.info()"
   ]
  },
  {
   "cell_type": "code",
   "execution_count": null,
   "metadata": {
    "colab": {},
    "colab_type": "code",
    "id": "e8dUlKwEWv7Z"
   },
   "outputs": [],
   "source": [
    "df_cars.drop(['maint'], axis=1, inplace=True)"
   ]
  },
  {
   "cell_type": "code",
   "execution_count": null,
   "metadata": {
    "colab": {
     "base_uri": "https://localhost:8080/",
     "height": 203
    },
    "colab_type": "code",
    "id": "KBg5gr9bfGEw",
    "outputId": "ed0ffbb8-959d-403f-e3ef-94fa329b2c72"
   },
   "outputs": [],
   "source": [
    "doors_df = pd.get_dummies(df_cars['doors'], prefix='doors', drop_first=True)\n",
    "doors_df.head()"
   ]
  },
  {
   "cell_type": "code",
   "execution_count": null,
   "metadata": {
    "colab": {
     "base_uri": "https://localhost:8080/",
     "height": 203
    },
    "colab_type": "code",
    "id": "MCnQVSVkfKKN",
    "outputId": "c808f61c-202e-4907-8715-063933f2bc0d"
   },
   "outputs": [],
   "source": [
    "persons_df = pd.get_dummies(df_cars['persons'], prefix='persons', drop_first=True)\n",
    "persons_df.head()"
   ]
  },
  {
   "cell_type": "code",
   "execution_count": null,
   "metadata": {
    "colab": {
     "base_uri": "https://localhost:8080/",
     "height": 203
    },
    "colab_type": "code",
    "id": "NK1Hm6RRfOF0",
    "outputId": "26739f01-0321-475b-8fb9-ec2be4739f67"
   },
   "outputs": [],
   "source": [
    "\n",
    "lug_boot_df = pd.get_dummies(df_cars['lug_boot'], prefix='lug_boot', drop_first=True)\n",
    "lug_boot_df.head()"
   ]
  },
  {
   "cell_type": "code",
   "execution_count": null,
   "metadata": {
    "colab": {
     "base_uri": "https://localhost:8080/",
     "height": 203
    },
    "colab_type": "code",
    "id": "md-O_kNwW4es",
    "outputId": "442ba98c-fba4-49de-f0fd-af349a121625"
   },
   "outputs": [],
   "source": [
    "safety_df = pd.get_dummies(df_cars['safety'], prefix='safety', drop_first=True)\n",
    "safety_df.head()"
   ]
  },
  {
   "cell_type": "code",
   "execution_count": null,
   "metadata": {
    "colab": {
     "base_uri": "https://localhost:8080/",
     "height": 223
    },
    "colab_type": "code",
    "id": "GXYsOMqmbW7B",
    "outputId": "a08425dd-627d-4c4c-b581-e1ce759e2a4d"
   },
   "outputs": [],
   "source": [
    "df_cars = pd.concat([df_cars, doors_df, persons_df, lug_boot_df, safety_df], axis=1)\n",
    "df_cars.head()"
   ]
  },
  {
   "cell_type": "code",
   "execution_count": null,
   "metadata": {
    "colab": {},
    "colab_type": "code",
    "id": "4Afplh8QbQbz"
   },
   "outputs": [],
   "source": [
    "df_cars.drop(['doors', 'persons', 'lug_boot', 'safety'], axis=1, inplace=True)"
   ]
  },
  {
   "cell_type": "code",
   "execution_count": null,
   "metadata": {
    "colab": {
     "base_uri": "https://localhost:8080/",
     "height": 377
    },
    "colab_type": "code",
    "id": "rzfjEJYOb6xm",
    "outputId": "86319fc7-ae2a-40b6-ab2d-0e5208c9770f"
   },
   "outputs": [],
   "source": [
    "df_cars.info()"
   ]
  },
  {
   "cell_type": "code",
   "execution_count": null,
   "metadata": {
    "colab": {
     "base_uri": "https://localhost:8080/",
     "height": 223
    },
    "colab_type": "code",
    "id": "cYU2wWYJb97e",
    "outputId": "3be980b2-ac58-4e37-8319-fcc2f394c9ef"
   },
   "outputs": [],
   "source": [
    "df_cars.head()"
   ]
  },
  {
   "cell_type": "markdown",
   "metadata": {
    "colab_type": "text",
    "id": "_x4Azth2fh5J"
   },
   "source": [
    "# split our data"
   ]
  },
  {
   "cell_type": "code",
   "execution_count": null,
   "metadata": {
    "colab": {},
    "colab_type": "code",
    "id": "0X1NpWrQeEMs"
   },
   "outputs": [],
   "source": [
    "predictors = df_cars.drop(['car'], axis=1).values\n",
    "labels = df_cars['car'].values\n",
    "\n",
    "X_train, X_test, y_train, y_test = train_test_split(predictors, labels, test_size=0.1)"
   ]
  },
  {
   "cell_type": "code",
   "execution_count": null,
   "metadata": {
    "colab": {
     "base_uri": "https://localhost:8080/",
     "height": 191
    },
    "colab_type": "code",
    "id": "YQ5O63s9f2HA",
    "outputId": "de37f69f-bcbf-462e-ac80-8669893e4ffa"
   },
   "outputs": [],
   "source": [
    "log_model_2 = LogisticRegression()\n",
    "log_model_2.fit(X_train, y_train)"
   ]
  },
  {
   "cell_type": "code",
   "execution_count": null,
   "metadata": {
    "colab": {
     "base_uri": "https://localhost:8080/",
     "height": 34
    },
    "colab_type": "code",
    "id": "6lHhIz4sf-ev",
    "outputId": "19271c84-098a-468e-b9e8-e20b9d263e81"
   },
   "outputs": [],
   "source": [
    "print('Score: {}'.format(log_model_2.score(X_test, y_test)))"
   ]
  },
  {
   "cell_type": "code",
   "execution_count": null,
   "metadata": {
    "colab": {},
    "colab_type": "code",
    "id": "ZIZbIdWogG1m"
   },
   "outputs": [],
   "source": [
    "from sklearn.metrics import accuracy_score"
   ]
  },
  {
   "cell_type": "code",
   "execution_count": null,
   "metadata": {
    "colab": {
     "base_uri": "https://localhost:8080/",
     "height": 34
    },
    "colab_type": "code",
    "id": "aioAGEX6gTLM",
    "outputId": "23926ac5-6745-4aca-fe26-9865c5901aa0"
   },
   "outputs": [],
   "source": [
    "print('Accuracy: {}'.format(accuracy_score(y_test, log_model_2.predict(X_test))))"
   ]
  },
  {
   "cell_type": "code",
   "execution_count": null,
   "metadata": {
    "colab": {},
    "colab_type": "code",
    "id": "-hNYxkLigd7I"
   },
   "outputs": [],
   "source": [
    "from sklearn.metrics import precision_score, recall_score, confusion_matrix"
   ]
  },
  {
   "cell_type": "code",
   "execution_count": null,
   "metadata": {
    "colab": {
     "base_uri": "https://localhost:8080/",
     "height": 106
    },
    "colab_type": "code",
    "id": "dJihGj6lg5Cu",
    "outputId": "67ef390d-d99c-4ca2-b0db-3a74dcfe4f75"
   },
   "outputs": [],
   "source": [
    "print('Precision: {}'.format(precision_score(y_test, log_model_2.predict(X_test), average=None)))\n",
    "print('Recall: {}'.format(recall_score(y_test, log_model_2.predict(X_test), average=None)))"
   ]
  },
  {
   "cell_type": "code",
   "execution_count": null,
   "metadata": {
    "colab": {
     "base_uri": "https://localhost:8080/",
     "height": 103
    },
    "colab_type": "code",
    "id": "H6eow_mqhJXj",
    "outputId": "21065215-a6d6-4f47-a466-a1f3c436dda9"
   },
   "outputs": [],
   "source": [
    "df_cars['car'].value_counts()"
   ]
  },
  {
   "cell_type": "code",
   "execution_count": null,
   "metadata": {
    "colab": {
     "base_uri": "https://localhost:8080/",
     "height": 86
    },
    "colab_type": "code",
    "id": "NdQsF0NNhjw4",
    "outputId": "a7323840-76dc-46c1-c56a-0f4c8aa76fdd"
   },
   "outputs": [],
   "source": [
    "print(confusion_matrix(y_test, log_model_2.predict(X_test)))"
   ]
  },
  {
   "cell_type": "code",
   "execution_count": null,
   "metadata": {
    "colab": {},
    "colab_type": "code",
    "id": "0Qaqh59jh5-_"
   },
   "outputs": [],
   "source": []
  }
 ],
 "metadata": {
  "colab": {
   "collapsed_sections": [],
   "name": "AMMI_Day_5.ipynb",
   "provenance": []
  },
  "kernelspec": {
   "display_name": "Python 3",
   "language": "python",
   "name": "python3"
  },
  "language_info": {
   "codemirror_mode": {
    "name": "ipython",
    "version": 3
   },
   "file_extension": ".py",
   "mimetype": "text/x-python",
   "name": "python",
   "nbconvert_exporter": "python",
   "pygments_lexer": "ipython3",
   "version": "3.7.4"
  }
 },
 "nbformat": 4,
 "nbformat_minor": 1
}
